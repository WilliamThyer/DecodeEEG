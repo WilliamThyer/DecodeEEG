{
 "cells": [
  {
   "cell_type": "code",
   "execution_count": null,
   "metadata": {
    "ExecuteTime": {
     "end_time": "2020-03-06T20:23:43.681934Z",
     "start_time": "2020-03-06T20:23:43.305610Z"
    }
   },
   "outputs": [],
   "source": [
    "import decode_eeg\n",
    "import numpy as np\n",
    "import matplotlib.pyplot as plt\n",
    "np.random.seed(42)\n",
    "%load_ext autoreload\n",
    "%autoreload 2"
   ]
  },
  {
   "cell_type": "code",
   "execution_count": null,
   "metadata": {
    "ExecuteTime": {
     "end_time": "2020-03-06T20:46:42.889356Z",
     "start_time": "2020-03-06T20:46:42.715393Z"
    }
   },
   "outputs": [],
   "source": [
    "experiment_name = '1801'\n",
    "data_dir = f'../Archery/analysis/data/{experiment_name}'\n",
    "exp = decode_eeg.Experiment(experiment_name,data_dir,test=False)"
   ]
  },
  {
   "cell_type": "code",
   "execution_count": null,
   "metadata": {
    "ExecuteTime": {
     "end_time": "2020-03-06T21:19:10.703170Z",
     "start_time": "2020-03-06T21:19:10.549254Z"
    }
   },
   "outputs": [],
   "source": [
    "time_window = 30\n",
    "time_step = 50\n",
    "trial_average = 3\n",
    "n_splits = 3\n",
    "group_dict = {0:[1],1:[2],2:[3],3:[4]}\n",
    "wrangl = decode_eeg.Wrangler(exp.info['times'],time_window,time_step,trial_average,n_splits,group_dict)\n",
    "\n",
    "clfr = decode_eeg.Classification(wrangl,exp.nsub)"
   ]
  },
  {
   "cell_type": "code",
   "execution_count": null,
   "metadata": {
    "ExecuteTime": {
     "end_time": "2020-03-06T20:49:55.203154Z",
     "start_time": "2020-03-06T20:46:44.391970Z"
    }
   },
   "outputs": [],
   "source": [
    "for isub in range(exp.nsub):\n",
    "    print(isub)\n",
    "    xdata,ydata = exp.load_eeg(isub)\n",
    "    xdata,ydata = wrangl.setup_data(xdata,ydata)\n",
    "    for X_train_all, X_test_all, y_train, y_test in wrangl.train_test_split(xdata,ydata):\n",
    "        for X_train, X_test in wrangl.roll_over_time(X_train_all, X_test_all):\n",
    "            clfr.decode(X_train,X_test,y_train,y_test,isub)"
   ]
  }
 ],
 "metadata": {
  "kernelspec": {
   "display_name": "Python 3",
   "language": "python",
   "name": "python3"
  },
  "language_info": {
   "codemirror_mode": {
    "name": "ipython",
    "version": 3
   },
   "file_extension": ".py",
   "mimetype": "text/x-python",
   "name": "python",
   "nbconvert_exporter": "python",
   "pygments_lexer": "ipython3",
   "version": "3.7.3"
  },
  "varInspector": {
   "cols": {
    "lenName": 16,
    "lenType": 16,
    "lenVar": 40
   },
   "kernels_config": {
    "python": {
     "delete_cmd_postfix": "",
     "delete_cmd_prefix": "del ",
     "library": "var_list.py",
     "varRefreshCmd": "print(var_dic_list())"
    },
    "r": {
     "delete_cmd_postfix": ") ",
     "delete_cmd_prefix": "rm(",
     "library": "var_list.r",
     "varRefreshCmd": "cat(var_dic_list()) "
    }
   },
   "types_to_exclude": [
    "module",
    "function",
    "builtin_function_or_method",
    "instance",
    "_Feature"
   ],
   "window_display": false
  }
 },
 "nbformat": 4,
 "nbformat_minor": 2
}
