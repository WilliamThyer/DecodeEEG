{
 "cells": [
  {
   "cell_type": "code",
   "execution_count": 1,
   "metadata": {
    "ExecuteTime": {
     "end_time": "2020-03-06T20:47:15.437863Z",
     "start_time": "2020-03-06T20:47:13.600955Z"
    }
   },
   "outputs": [],
   "source": [
    "import decode_eeg\n",
    "import numpy as np\n",
    "np.random.seed(42)\n",
    "%load_ext autoreload\n",
    "%autoreload 2"
   ]
  },
  {
   "cell_type": "code",
   "execution_count": 8,
   "metadata": {
    "ExecuteTime": {
     "end_time": "2020-03-06T20:55:42.886259Z",
     "start_time": "2020-03-06T20:55:42.700201Z"
    }
   },
   "outputs": [],
   "source": [
    "experiment_name1 = '1801'\n",
    "experiment_name2 = '1901'\n",
    "experiment_name3 = '1902'\n",
    "data_dir1 = f'../Archery/analysis/data/{experiment_name1}'\n",
    "data_dir2 = f'../Archery/analysis/data/{experiment_name2}'\n",
    "data_dir3 = f'../Archery/analysis/data/{experiment_name3}'\n",
    "\n",
    "exp1 = decode_eeg.Experiment(experiment_name1,data_dir1)\n",
    "exp2 = decode_eeg.Experiment(experiment_name2,data_dir2)\n",
    "exp3 = decode_eeg.Experiment(experiment_name3,data_dir3)"
   ]
  },
  {
   "cell_type": "code",
   "execution_count": 63,
   "metadata": {
    "ExecuteTime": {
     "end_time": "2020-03-06T21:29:21.735855Z",
     "start_time": "2020-03-06T21:29:21.518971Z"
    }
   },
   "outputs": [],
   "source": [
    "time_window = 10\n",
    "time_step = 30\n",
    "trial_average = 20\n",
    "n_splits = 10\n",
    "group_dict = {0:[1],1:[2],2:[3],3:[4]}\n",
    "wrangl = decode_eeg.Wrangler(exp1.info['times'],time_window,time_step,trial_average,n_splits)\n",
    "\n",
    "sync = decode_eeg.Experiment_Syncer(experiments=[exp1,exp2,exp3],\n",
    "                                    wrangler = wrangl,\n",
    "                                    train_group = [experiment_name1,experiment_name2])\n",
    "\n",
    "clfr = decode_eeg.Classification(wrangl,sync.nsub,num_labels=4)"
   ]
  },
  {
   "cell_type": "code",
   "execution_count": 64,
   "metadata": {
    "ExecuteTime": {
     "end_time": "2020-03-06T21:34:45.136103Z",
     "start_time": "2020-03-06T21:29:22.894049Z"
    }
   },
   "outputs": [
    {
     "name": "stdout",
     "output_type": "stream",
     "text": [
      "                  \r"
     ]
    }
   ],
   "source": [
    "for isub,sub in enumerate(sync.matched_ids):\n",
    "    xdata,ydata = sync.load_eeg(sub)\n",
    "    xdata,ydata = sync.setup_data(xdata,ydata)\n",
    "    xdata_train,xdata_test,ydata_train,ydata_test = sync.group_data(xdata,ydata)\n",
    "    for X_train_all, X_test_all, y_train, y_test in wrangl.train_test_custom_split(xdata_train,xdata_test,ydata_train,ydata_test):\n",
    "        for X_train, X_test in wrangl.roll_over_time(X_train_all, X_test_all):\n",
    "                clfr.decode(X_train,X_test,y_train,y_test,isub)"
   ]
  }
 ],
 "metadata": {
  "kernelspec": {
   "display_name": "Python 3",
   "language": "python",
   "name": "python3"
  },
  "language_info": {
   "codemirror_mode": {
    "name": "ipython",
    "version": 3
   },
   "file_extension": ".py",
   "mimetype": "text/x-python",
   "name": "python",
   "nbconvert_exporter": "python",
   "pygments_lexer": "ipython3",
   "version": "3.7.3"
  },
  "varInspector": {
   "cols": {
    "lenName": 16,
    "lenType": 16,
    "lenVar": 40
   },
   "kernels_config": {
    "python": {
     "delete_cmd_postfix": "",
     "delete_cmd_prefix": "del ",
     "library": "var_list.py",
     "varRefreshCmd": "print(var_dic_list())"
    },
    "r": {
     "delete_cmd_postfix": ") ",
     "delete_cmd_prefix": "rm(",
     "library": "var_list.r",
     "varRefreshCmd": "cat(var_dic_list()) "
    }
   },
   "types_to_exclude": [
    "module",
    "function",
    "builtin_function_or_method",
    "instance",
    "_Feature"
   ],
   "window_display": false
  }
 },
 "nbformat": 4,
 "nbformat_minor": 2
}
